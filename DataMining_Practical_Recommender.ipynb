{
 "cells": [
  {
   "cell_type": "markdown",
   "metadata": {},
   "source": [
    "# Data Mining - Practical Session\n",
    "\n",
    "In this hands-on session you will be taken through the process of creating movie recommendations based on the Movielens 1M dataset. \n",
    "\n",
    "To this end, we will undergo the following steps:\n",
    "1. Load the data\n",
    "2. Explore the data\n",
    "3. Pre-process the data\n",
    "4. Create a recommender model\n",
    "5. Recommend movies\n",
    "\n",
    "Let's get to it! "
   ]
  },
  {
   "cell_type": "markdown",
   "metadata": {},
   "source": [
    "### First we load the packages\n",
    "Make sure that all the packages are installed correctly\n"
   ]
  },
  {
   "cell_type": "code",
   "execution_count": 1,
   "metadata": {},
   "outputs": [],
   "source": [
    "import numpy as np\n",
    "import pandas as pd\n",
    "import seaborn as sns\n",
    "import matplotlib.pyplot as plt\n",
    "from collections import defaultdict\n",
    "from sklearn import model_selection\n",
    "from sklearn.manifold import TSNE\n",
    "from surprise.model_selection import train_test_split\n",
    "from surprise.model_selection import cross_validate\n",
    "from surprise import SVD\n",
    "from surprise import Reader\n",
    "from surprise import Dataset\n",
    "from surprise.model_selection import GridSearchCV\n",
    "from surprise import PredictionImpossible\n",
    "from surprise.accuracy import rmse\n",
    "from surprise import accuracy\n",
    "from surprise import KNNWithMeans"
   ]
  },
  {
   "cell_type": "markdown",
   "metadata": {},
   "source": [
    "### 1. Load the data \n",
    "We use the Movielens 100k observations dataset which is frequently used in the recommender field. In case your computer can handle this easily, you can also work with the 1M dataset which can be found in the bu folder.\n"
   ]
  },
  {
   "cell_type": "code",
   "execution_count": 2,
   "metadata": {},
   "outputs": [
    {
     "data": {
      "text/html": [
       "<div>\n",
       "<style scoped>\n",
       "    .dataframe tbody tr th:only-of-type {\n",
       "        vertical-align: middle;\n",
       "    }\n",
       "\n",
       "    .dataframe tbody tr th {\n",
       "        vertical-align: top;\n",
       "    }\n",
       "\n",
       "    .dataframe thead th {\n",
       "        text-align: right;\n",
       "    }\n",
       "</style>\n",
       "<table border=\"1\" class=\"dataframe\">\n",
       "  <thead>\n",
       "    <tr style=\"text-align: right;\">\n",
       "      <th></th>\n",
       "      <th>userId</th>\n",
       "      <th>movieId</th>\n",
       "      <th>rating</th>\n",
       "      <th>timestamp</th>\n",
       "      <th>title</th>\n",
       "      <th>genres</th>\n",
       "    </tr>\n",
       "  </thead>\n",
       "  <tbody>\n",
       "    <tr>\n",
       "      <th>0</th>\n",
       "      <td>1</td>\n",
       "      <td>1</td>\n",
       "      <td>4.0</td>\n",
       "      <td>964982703</td>\n",
       "      <td>Toy Story (1995)</td>\n",
       "      <td>Adventure|Animation|Children|Comedy|Fantasy</td>\n",
       "    </tr>\n",
       "    <tr>\n",
       "      <th>1</th>\n",
       "      <td>1</td>\n",
       "      <td>3</td>\n",
       "      <td>4.0</td>\n",
       "      <td>964981247</td>\n",
       "      <td>Grumpier Old Men (1995)</td>\n",
       "      <td>Comedy|Romance</td>\n",
       "    </tr>\n",
       "    <tr>\n",
       "      <th>2</th>\n",
       "      <td>1</td>\n",
       "      <td>6</td>\n",
       "      <td>4.0</td>\n",
       "      <td>964982224</td>\n",
       "      <td>Heat (1995)</td>\n",
       "      <td>Action|Crime|Thriller</td>\n",
       "    </tr>\n",
       "    <tr>\n",
       "      <th>3</th>\n",
       "      <td>1</td>\n",
       "      <td>47</td>\n",
       "      <td>5.0</td>\n",
       "      <td>964983815</td>\n",
       "      <td>Seven (a.k.a. Se7en) (1995)</td>\n",
       "      <td>Mystery|Thriller</td>\n",
       "    </tr>\n",
       "    <tr>\n",
       "      <th>4</th>\n",
       "      <td>1</td>\n",
       "      <td>50</td>\n",
       "      <td>5.0</td>\n",
       "      <td>964982931</td>\n",
       "      <td>Usual Suspects, The (1995)</td>\n",
       "      <td>Crime|Mystery|Thriller</td>\n",
       "    </tr>\n",
       "  </tbody>\n",
       "</table>\n",
       "</div>"
      ],
      "text/plain": [
       "   userId  movieId  rating  timestamp                        title  \\\n",
       "0       1        1     4.0  964982703             Toy Story (1995)   \n",
       "1       1        3     4.0  964981247      Grumpier Old Men (1995)   \n",
       "2       1        6     4.0  964982224                  Heat (1995)   \n",
       "3       1       47     5.0  964983815  Seven (a.k.a. Se7en) (1995)   \n",
       "4       1       50     5.0  964982931   Usual Suspects, The (1995)   \n",
       "\n",
       "                                        genres  \n",
       "0  Adventure|Animation|Children|Comedy|Fantasy  \n",
       "1                               Comedy|Romance  \n",
       "2                        Action|Crime|Thriller  \n",
       "3                             Mystery|Thriller  \n",
       "4                       Crime|Mystery|Thriller  "
      ]
     },
     "execution_count": 2,
     "metadata": {},
     "output_type": "execute_result"
    }
   ],
   "source": [
    "# Load the data \n",
    "ratings = pd.read_csv(\"data/ratings.csv\")\n",
    "movies = pd.read_csv(\"data/movies.csv\")\n",
    "\n",
    "# add movie information to the ratings \n",
    "data = pd.merge(ratings, movies, how=\"left\")\n",
    "\n",
    "data.head(5)"
   ]
  },
  {
   "cell_type": "markdown",
   "metadata": {},
   "source": [
    "That is all the data we are going to use!\n",
    "### 2. Explore the data \n",
    "Let's see how our data looks like\n"
   ]
  },
  {
   "cell_type": "code",
   "execution_count": 3,
   "metadata": {},
   "outputs": [
    {
     "name": "stdout",
     "output_type": "stream",
     "text": [
      "There are in total 100836 ratings from 9724  movies and 610 users.\n"
     ]
    }
   ],
   "source": [
    "print(\"There are in total\", len(data), \"ratings from\", data.movieId.nunique(), \" movies and\", data.userId.nunique(), \"users.\")"
   ]
  },
  {
   "cell_type": "code",
   "execution_count": 4,
   "metadata": {},
   "outputs": [
    {
     "data": {
      "text/plain": [
       "userId         int64\n",
       "movieId        int64\n",
       "rating       float64\n",
       "timestamp      int64\n",
       "title         object\n",
       "genres        object\n",
       "dtype: object"
      ]
     },
     "execution_count": 4,
     "metadata": {},
     "output_type": "execute_result"
    }
   ],
   "source": [
    "# check if the formatting of the variables is ok\n",
    "data.dtypes"
   ]
  },
  {
   "cell_type": "code",
   "execution_count": 5,
   "metadata": {},
   "outputs": [
    {
     "data": {
      "text/html": [
       "<div>\n",
       "<style scoped>\n",
       "    .dataframe tbody tr th:only-of-type {\n",
       "        vertical-align: middle;\n",
       "    }\n",
       "\n",
       "    .dataframe tbody tr th {\n",
       "        vertical-align: top;\n",
       "    }\n",
       "\n",
       "    .dataframe thead th {\n",
       "        text-align: right;\n",
       "    }\n",
       "</style>\n",
       "<table border=\"1\" class=\"dataframe\">\n",
       "  <thead>\n",
       "    <tr style=\"text-align: right;\">\n",
       "      <th></th>\n",
       "      <th>userId</th>\n",
       "      <th>n_ratings</th>\n",
       "    </tr>\n",
       "  </thead>\n",
       "  <tbody>\n",
       "    <tr>\n",
       "      <th>0</th>\n",
       "      <td>1</td>\n",
       "      <td>232</td>\n",
       "    </tr>\n",
       "    <tr>\n",
       "      <th>1</th>\n",
       "      <td>2</td>\n",
       "      <td>29</td>\n",
       "    </tr>\n",
       "    <tr>\n",
       "      <th>2</th>\n",
       "      <td>3</td>\n",
       "      <td>39</td>\n",
       "    </tr>\n",
       "    <tr>\n",
       "      <th>3</th>\n",
       "      <td>4</td>\n",
       "      <td>216</td>\n",
       "    </tr>\n",
       "    <tr>\n",
       "      <th>4</th>\n",
       "      <td>5</td>\n",
       "      <td>44</td>\n",
       "    </tr>\n",
       "  </tbody>\n",
       "</table>\n",
       "</div>"
      ],
      "text/plain": [
       "   userId  n_ratings\n",
       "0       1        232\n",
       "1       2         29\n",
       "2       3         39\n",
       "3       4        216\n",
       "4       5         44"
      ]
     },
     "execution_count": 5,
     "metadata": {},
     "output_type": "execute_result"
    }
   ],
   "source": [
    "# explore how many ratings we have per user \n",
    "user_freq = data[['userId', 'movieId']].groupby(['userId']).count().reset_index()\n",
    "user_freq.columns = ['userId', 'n_ratings']\n",
    "user_freq.head()"
   ]
  },
  {
   "cell_type": "code",
   "execution_count": 6,
   "metadata": {},
   "outputs": [
    {
     "name": "stdout",
     "output_type": "stream",
     "text": [
      "Mean number of ratings for a given user: 165.30.\n"
     ]
    }
   ],
   "source": [
    "print(f\"Mean number of ratings for a given user: {user_freq['n_ratings'].mean():.2f}.\")"
   ]
  },
  {
   "cell_type": "code",
   "execution_count": 7,
   "metadata": {},
   "outputs": [
    {
     "data": {
      "image/png": "[encoded data removed]",
      "text/plain": [
       "<Figure size 1008x360 with 2 Axes>"
      ]
     },
     "metadata": {},
     "output_type": "display_data"
    }
   ],
   "source": [
    "sns.set_style(\"whitegrid\")\n",
    "plt.figure(figsize=(14,5))\n",
    "plt.subplot(1,2,1)\n",
    "ax = sns.countplot(x=\"rating\", data=data, palette=\"viridis\")\n",
    "plt.title(\"Distribution of movie ratings\")\n",
    "\n",
    "plt.subplot(1,2,2)\n",
    "ax = sns.kdeplot(user_freq['n_ratings'], shade=True, legend=False)\n",
    "plt.axvline(user_freq['n_ratings'].mean(), color=\"k\", linestyle=\"--\")\n",
    "plt.xlabel(\"# ratings per user\")\n",
    "plt.ylabel(\"density\")\n",
    "plt.title(\"Number of movies rated per user\")\n",
    "plt.show()"
   ]
  },
  {
   "cell_type": "markdown",
   "metadata": {},
   "source": [
    "**Now, explore the different features of the dataset in isolation.** You can thing of the following questions:\n",
    "1. How does the distribution look like of number of ratings per movie?\n",
    "2. Which movies have been rated most often? \n",
    "3. Which movies have the highest and lowest rating?"
   ]
  },
  {
   "cell_type": "code",
   "execution_count": 8,
   "metadata": {},
   "outputs": [],
   "source": [
    "# answer here"
   ]
  },
  {
   "cell_type": "markdown",
   "metadata": {},
   "source": [
    "**Think about what this data exploration means for the model.** Some questions:\n",
    "1. Most ratings are 4, what could then be a good random benchmark algorithm?\n",
    "2. If people only rated 3 movies, should we include them?\n",
    "3. Same for movies: when to include them?"
   ]
  },
  {
   "cell_type": "markdown",
   "metadata": {},
   "source": [
    "# 3. Pre-process the data\n",
    "\n",
    "1. Filter out the movies and users you want to include in the dataset\n",
    "2. Calculate the sparsity of the data\n",
    "3. Create a train and test set\n"
   ]
  },
  {
   "cell_type": "code",
   "execution_count": 9,
   "metadata": {},
   "outputs": [
    {
     "name": "stdout",
     "output_type": "stream",
     "text": [
      "There are in total 94794 ratings from 4980  movies and 610 users.\n"
     ]
    }
   ],
   "source": [
    "min_number = 3\n",
    "\n",
    "users_more_ratings = data.groupby(\"userId\").count().reset_index().sort_values(\"movieId\")\n",
    "users_more_ratings = users_more_ratings[users_more_ratings[\"movieId\"]>=min_number].userId.unique()\n",
    "\n",
    "movies_more_ratings = data.groupby(\"movieId\").count().reset_index().sort_values(\"userId\")\n",
    "movies_more_ratings = movies_more_ratings[movies_more_ratings[\"userId\"]>=min_number].movieId.unique()\n",
    "\n",
    "data = data[data[\"movieId\"].isin(movies_more_ratings) & data[\"userId\"].isin(users_more_ratings)]\n",
    "print(\"There are in total\", len(data), \"ratings from\", data.movieId.nunique(), \" movies and\", data.userId.nunique(), \"users.\")"
   ]
  },
  {
   "cell_type": "code",
   "execution_count": 10,
   "metadata": {},
   "outputs": [],
   "source": [
    "# Calculate Sparsity"
   ]
  },
  {
   "cell_type": "markdown",
   "metadata": {},
   "source": [
    "### 4. Create a recommender model\n",
    "**For this hands on we use the library \"surprise\" to create our recommender models** \n",
    "For more information check out this webste: https://surprise.readthedocs.io/en/stable/\n",
    "\n",
    "We also restrict ourselves to collaborative filtering methods only. \n",
    "Remember, that means that we don't take user and movie features into account but only the matrix with ratings. "
   ]
  },
  {
   "cell_type": "code",
   "execution_count": 11,
   "metadata": {},
   "outputs": [],
   "source": [
    "# This is how we load the data. \n",
    "\n",
    "Matrix = data[[\"userId\",\"movieId\",\"rating\"]]\n",
    "reader = Reader(rating_scale=(1,5))\n",
    "matrix = Dataset.load_from_df(Matrix, reader)\n",
    "\n",
    "# Then we create a 80-20 split of train and test data\n",
    "train_df, test_df = train_test_split(matrix, test_size=0.2, random_state=100)"
   ]
  },
  {
   "cell_type": "markdown",
   "metadata": {},
   "source": [
    "### 4.1 Collaborative filtering: memory based - user\n",
    "We use a K-NN method where we subtract the mean rating of every user. "
   ]
  },
  {
   "cell_type": "code",
   "execution_count": 12,
   "metadata": {},
   "outputs": [
    {
     "name": "stdout",
     "output_type": "stream",
     "text": [
      "Computing the cosine similarity matrix...\n",
      "Done computing similarity matrix.\n",
      "RMSE: 0.7130\n",
      "RMSE on train data 0.7129830710070995\n",
      "RMSE: 0.8892\n",
      "RMSE on test data 0.8891940172573102\n"
     ]
    }
   ],
   "source": [
    "sim_options = {'name': 'cosine', 'min_support':1 ,'user_based': True }\n",
    "recommender_KNN = KNNWithMeans(k=10, min_k=1, sim_options=sim_options, verbose=True)\n",
    "recommender_KNN.fit(train_df)\n",
    "\n",
    "original_train = train_df.build_testset()\n",
    "predictions_train = recommender_KNN.test(original_train)\n",
    "predictions = recommender_KNN.test(test_df)\n",
    "\n",
    "print(\"RMSE on train data\", accuracy.rmse(predictions_train, verbose=True))\n",
    "print(\"RMSE on test data\",accuracy.rmse(predictions, verbose=True))"
   ]
  },
  {
   "cell_type": "markdown",
   "metadata": {},
   "source": [
    "**As you can see, there are a lot of parameters that can affect the algorithm performance and explain the overfitting on the test set. Try out some parameter values and see which one has a lot of effect**\n",
    "If you change the min_k or the min_support, it might happen that some recommendations are not possible to give. The min_support for example tells how many items two users need to have in common before a similarity can be calculated. If you make recommendations with such a model, make sure to filter them out in the end (in the details column on the prediction) \n",
    "\n",
    "**Let's do a parameter sweep and investigate the best parameters**"
   ]
  },
  {
   "cell_type": "code",
   "execution_count": 13,
   "metadata": {},
   "outputs": [
    {
     "name": "stdout",
     "output_type": "stream",
     "text": [
      "Computing the msd similarity matrix...\n",
      "Done computing similarity matrix.\n",
      "Computing the msd similarity matrix...\n",
      "Done computing similarity matrix.\n",
      "Computing the msd similarity matrix...\n",
      "Done computing similarity matrix.\n",
      "Computing the msd similarity matrix...\n",
      "Done computing similarity matrix.\n",
      "Computing the msd similarity matrix...\n",
      "Done computing similarity matrix.\n",
      "Computing the msd similarity matrix...\n",
      "Done computing similarity matrix.\n",
      "Computing the msd similarity matrix...\n",
      "Done computing similarity matrix.\n",
      "Computing the msd similarity matrix...\n",
      "Done computing similarity matrix.\n",
      "Computing the msd similarity matrix...\n",
      "Done computing similarity matrix.\n",
      "Computing the msd similarity matrix...\n",
      "Done computing similarity matrix.\n",
      "Computing the msd similarity matrix...\n",
      "Done computing similarity matrix.\n",
      "Computing the msd similarity matrix...\n",
      "Done computing similarity matrix.\n",
      "Computing the msd similarity matrix...\n",
      "Done computing similarity matrix.\n",
      "Computing the msd similarity matrix...\n",
      "Done computing similarity matrix.\n",
      "Computing the msd similarity matrix...\n",
      "Done computing similarity matrix.\n",
      "Computing the msd similarity matrix...\n",
      "Done computing similarity matrix.\n",
      "Computing the msd similarity matrix...\n",
      "Done computing similarity matrix.\n",
      "Computing the msd similarity matrix...\n",
      "Done computing similarity matrix.\n",
      "Computing the msd similarity matrix...\n",
      "Done computing similarity matrix.\n",
      "Computing the msd similarity matrix...\n",
      "Done computing similarity matrix.\n",
      "Computing the msd similarity matrix...\n",
      "Done computing similarity matrix.\n",
      "Computing the msd similarity matrix...\n",
      "Done computing similarity matrix.\n",
      "Computing the msd similarity matrix...\n",
      "Done computing similarity matrix.\n",
      "Computing the msd similarity matrix...\n",
      "Done computing similarity matrix.\n",
      "Computing the msd similarity matrix...\n",
      "Done computing similarity matrix.\n",
      "Computing the msd similarity matrix...\n",
      "Done computing similarity matrix.\n",
      "Computing the msd similarity matrix...\n",
      "Done computing similarity matrix.\n",
      "Computing the msd similarity matrix...\n",
      "Done computing similarity matrix.\n",
      "Computing the msd similarity matrix...\n",
      "Done computing similarity matrix.\n",
      "Computing the msd similarity matrix...\n",
      "Done computing similarity matrix.\n",
      "Computing the msd similarity matrix...\n",
      "Done computing similarity matrix.\n",
      "Computing the msd similarity matrix...\n",
      "Done computing similarity matrix.\n",
      "Computing the msd similarity matrix...\n",
      "Done computing similarity matrix.\n",
      "Computing the msd similarity matrix...\n",
      "Done computing similarity matrix.\n",
      "Computing the msd similarity matrix...\n",
      "Done computing similarity matrix.\n",
      "Computing the msd similarity matrix...\n",
      "Done computing similarity matrix.\n",
      "0.8833326029791392\n",
      "{'name': 'pearson', 'min_support': 1, 'user_based': 'True', 'k': 60, 'min_k': 1}\n"
     ]
    }
   ],
   "source": [
    "param_grid = {'name': ['pearson', 'cosine'], 'min_support': [1], \"user_based\": [\"True\", \"False\"]\n",
    "              , 'k':[10,40,60], 'min_k':[1]}\n",
    "gs = GridSearchCV(KNNWithMeans, param_grid, measures=['rmse'], cv=3)\n",
    "gs.fit(matrix)\n",
    "\n",
    "# best RMSE score\n",
    "print(gs.best_score['rmse'])\n",
    "# combination of parameters that gave the best RMSE score\n",
    "print(gs.best_params['rmse'])"
   ]
  },
  {
   "cell_type": "code",
   "execution_count": 14,
   "metadata": {},
   "outputs": [],
   "source": [
    "# Use these best parameters on the previous set up with a train and test split"
   ]
  },
  {
   "cell_type": "markdown",
   "metadata": {},
   "source": [
    "### This is indeed a bit better! \n",
    "Let's investigate some more:\n",
    "1. How does the confusion matrices look like of the test set(suppose that a rating of 3.5 or higher was indeed a good recommendation). \n",
    "2. How do we do compared to a benchmark that always predicts 3.5 (in terms of precision, recall and accuracy on test set)?\n",
    "3. What are the best and worst predictions in the train and test set?"
   ]
  },
  {
   "cell_type": "code",
   "execution_count": 15,
   "metadata": {},
   "outputs": [],
   "source": [
    "# First prep the data\n",
    "predictions_train = pd.DataFrame(predictions_train, columns=['userId', 'movieId', 'rating', 'rating_p', 'details'])\n",
    "predictions_test = pd.DataFrame(predictions, columns=['userId', 'movieId', 'rating', 'rating_p', 'details'])\n",
    "train_matrix = pd.DataFrame(original_train, columns=['userId', 'movieId', 'rating'])\n",
    "test_matrix = pd.DataFrame(test_df, columns=['userId', 'movieId', 'rating'])\n",
    "\n",
    "train_matrix = pd.merge(train_matrix,predictions_train, on= ['userId', 'movieId', 'rating'], how=\"left\")\n",
    "test_matrix = pd.merge(test_matrix,predictions_test, on= ['userId', 'movieId', 'rating'], how=\"left\")"
   ]
  },
  {
   "cell_type": "code",
   "execution_count": 16,
   "metadata": {},
   "outputs": [
    {
     "name": "stdout",
     "output_type": "stream",
     "text": [
      "train\n",
      "Predicted    0.0    1.0\n",
      "Actual                 \n",
      "0.0        23752   5282\n",
      "1.0        11409  35392\n",
      "Accuracy 0.78\n",
      "Recall 0.76\n",
      "Precision 0.87\n",
      "\n",
      "---Test\n"
     ]
    }
   ],
   "source": [
    "# Create threshold values\n",
    "train_matrix.loc[train_matrix[\"rating\"] >=3.5,'rating_th'] = 1\n",
    "train_matrix.loc[train_matrix[\"rating\"] <3.5,'rating_th'] = 0\n",
    "train_matrix.loc[train_matrix[\"rating_p\"] >=3.5,'rating_p_th'] = 1\n",
    "train_matrix.loc[train_matrix[\"rating_p\"] <3.5,'rating_p_th'] = 0\n",
    "\n",
    "\n",
    "confusion_matrix_train = pd.crosstab(train_matrix['rating_th'], train_matrix['rating_p_th'], rownames=['Actual'], colnames=['Predicted'])\n",
    "\n",
    "print(\"train\")\n",
    "print(confusion_matrix_train)\n",
    "print(\"Accuracy\", np.round((confusion_matrix_train.loc[0,0] + confusion_matrix_train.loc[1,1])/ confusion_matrix_train.sum().sum(),2)  ) \n",
    "print(\"Recall\", np.round( confusion_matrix_train.loc[1,1] /(confusion_matrix_train.loc[1,1]+confusion_matrix_train.loc[1,0]), 2))\n",
    "print(\"Precision\", np.round( confusion_matrix_train.loc[1,1] /(confusion_matrix_train.loc[1,1]+confusion_matrix_train.loc[0,1]), 2))\n",
    "\n",
    "print(\"\\n---Test\")\n",
    "# code here"
   ]
  },
  {
   "cell_type": "code",
   "execution_count": 17,
   "metadata": {},
   "outputs": [],
   "source": [
    "# confusion matrix of benchmark"
   ]
  },
  {
   "cell_type": "markdown",
   "metadata": {},
   "source": [
    "### 4.2 Collaborative filtering: model based - MF"
   ]
  },
  {
   "cell_type": "code",
   "execution_count": 18,
   "metadata": {},
   "outputs": [
    {
     "name": "stdout",
     "output_type": "stream",
     "text": [
      "RMSE: 0.7293\n",
      "RMSE on train data 0.7293249868009529\n",
      "RMSE: 0.8786\n",
      "RMSE on test data 0.8785896580172473\n"
     ]
    }
   ],
   "source": [
    "# We'll use the SVD algorithm that uses SGD to learn the weights\n",
    "recommender_SVD = SVD(n_factors= 5, n_epochs = 10, reg_all = 0.1, lr_all = 0.1, verbose=False, biased=True)\n",
    "recommender_SVD.fit(train_df)\n",
    "\n",
    "original_train = train_df.build_testset()\n",
    "predictions_train_SVD = recommender_SVD.test(original_train)\n",
    "predictions_SVD = recommender_SVD.test(test_df)\n",
    "\n",
    "print(\"RMSE on train data\", accuracy.rmse(predictions_train_SVD, verbose=True))\n",
    "print(\"RMSE on test data\",accuracy.rmse(predictions_SVD, verbose=True))\n"
   ]
  },
  {
   "cell_type": "markdown",
   "metadata": {},
   "source": [
    "**Repeat the exercise from above for this method**\n",
    "Does this method give better results?"
   ]
  },
  {
   "cell_type": "code",
   "execution_count": 19,
   "metadata": {},
   "outputs": [],
   "source": [
    "# answer here"
   ]
  },
  {
   "cell_type": "markdown",
   "metadata": {},
   "source": [
    "### 5. Recommend movies\n",
    "\n",
    "Let's take 1 user and use both algorithms to predict the recommended movies for these users"
   ]
  },
  {
   "cell_type": "code",
   "execution_count": 20,
   "metadata": {},
   "outputs": [
    {
     "name": "stdout",
     "output_type": "stream",
     "text": [
      "user raw id: 41 item raw id:  3766\n",
      "KNN:  user: 555        item: 7121       r_ui = None   est = 4.54   {'actual_k': 3, 'was_impossible': False}\n",
      "SVD:  user: 555        item: 7121       r_ui = None   est = 4.33   {'was_impossible': False}\n"
     ]
    }
   ],
   "source": [
    "# Make prediction and are they different?\n",
    "u = train_df.to_inner_uid(555)\n",
    "i = train_df.to_inner_iid(7121)\n",
    "print(\"user raw id:\" , u, \"item raw id: \",i)\n",
    "user = train_df.to_raw_uid(u)\n",
    "item = train_df.to_raw_iid(i)\n",
    "\n",
    "# going to inner and back to raw id seems a bit redundant but using the raw id's immediately is not regocnised\n",
    "print(\"KNN: \", recommender_KNN.predict(user, item))  \n",
    "print(\"SVD: \", recommender_SVD.predict(user, item))  \n"
   ]
  },
  {
   "cell_type": "code",
   "execution_count": 21,
   "metadata": {},
   "outputs": [],
   "source": [
    "#Let's look at the top recommendations for user 555\n",
    "make_recommendations = train_df.build_anti_testset()\n",
    "recommendations = recommender_SVD.test(make_recommendations)\n",
    "\n",
    "top_n = defaultdict(list)\n",
    "for uid, iid, true_r, est, _ in recommendations:\n",
    "    top_n[uid].append((iid, est))\n",
    "    \n",
    "# Then sort the predictions for each user and retrieve the k highest ones.\n",
    "for uid, user_ratings in top_n.items():\n",
    "    user_ratings.sort(key=lambda x: x[1], reverse=True)\n",
    "    top_n[uid] = user_ratings[:10]"
   ]
  },
  {
   "cell_type": "code",
   "execution_count": 22,
   "metadata": {},
   "outputs": [
    {
     "data": {
      "text/plain": [
       "[(112421, 4.949493054697272),\n",
       " (26810, 4.916247148341365),\n",
       " (3089, 4.897555702560317),\n",
       " (89759, 4.8503413427479805),\n",
       " (1250, 4.841198673122085),\n",
       " (3266, 4.778080895423129),\n",
       " (4278, 4.777301758618248),\n",
       " (7842, 4.756876693788362),\n",
       " (1233, 4.742940719258279),\n",
       " (89904, 4.738294475607087)]"
      ]
     },
     "execution_count": 22,
     "metadata": {},
     "output_type": "execute_result"
    }
   ],
   "source": [
    "top_n[555]"
   ]
  },
  {
   "cell_type": "markdown",
   "metadata": {},
   "source": [
    "**We can also explore the model a bit and look at similar users**"
   ]
  },
  {
   "cell_type": "code",
   "execution_count": 23,
   "metadata": {},
   "outputs": [
    {
     "name": "stdout",
     "output_type": "stream",
     "text": [
      "user id:  439\n"
     ]
    },
    {
     "data": {
      "text/plain": [
       "[45, 81, 89, 93, 111, 124, 128, 138, 143, 159]"
      ]
     },
     "execution_count": 23,
     "metadata": {},
     "output_type": "execute_result"
    }
   ],
   "source": [
    "inner_user_id = recommender_KNN.trainset.to_inner_uid(487)\n",
    "print(\"user id: \", inner_user_id)\n",
    "user_neigh = recommender_KNN.get_neighbors(inner_user_id, k=10)\n",
    "user_neigh"
   ]
  },
  {
   "cell_type": "code",
   "execution_count": 24,
   "metadata": {},
   "outputs": [
    {
     "data": {
      "text/html": [
       "<div>\n",
       "<style scoped>\n",
       "    .dataframe tbody tr th:only-of-type {\n",
       "        vertical-align: middle;\n",
       "    }\n",
       "\n",
       "    .dataframe tbody tr th {\n",
       "        vertical-align: top;\n",
       "    }\n",
       "\n",
       "    .dataframe thead th {\n",
       "        text-align: right;\n",
       "    }\n",
       "</style>\n",
       "<table border=\"1\" class=\"dataframe\">\n",
       "  <thead>\n",
       "    <tr style=\"text-align: right;\">\n",
       "      <th></th>\n",
       "      <th>userId</th>\n",
       "      <th>movieId</th>\n",
       "      <th>rating</th>\n",
       "      <th>timestamp</th>\n",
       "      <th>title</th>\n",
       "      <th>genres</th>\n",
       "    </tr>\n",
       "  </thead>\n",
       "  <tbody>\n",
       "    <tr>\n",
       "      <th>85983</th>\n",
       "      <td>558</td>\n",
       "      <td>5420</td>\n",
       "      <td>5.0</td>\n",
       "      <td>1035415871</td>\n",
       "      <td>Windtalkers (2002)</td>\n",
       "      <td>Action|Drama|War</td>\n",
       "    </tr>\n",
       "    <tr>\n",
       "      <th>85966</th>\n",
       "      <td>558</td>\n",
       "      <td>5064</td>\n",
       "      <td>5.0</td>\n",
       "      <td>1035415811</td>\n",
       "      <td>The Count of Monte Cristo (2002)</td>\n",
       "      <td>Action|Adventure|Drama|Thriller</td>\n",
       "    </tr>\n",
       "    <tr>\n",
       "      <th>85957</th>\n",
       "      <td>558</td>\n",
       "      <td>3831</td>\n",
       "      <td>5.0</td>\n",
       "      <td>1035415531</td>\n",
       "      <td>Saving Grace (2000)</td>\n",
       "      <td>Comedy</td>\n",
       "    </tr>\n",
       "    <tr>\n",
       "      <th>85959</th>\n",
       "      <td>558</td>\n",
       "      <td>4159</td>\n",
       "      <td>5.0</td>\n",
       "      <td>1035416048</td>\n",
       "      <td>3000 Miles to Graceland (2001)</td>\n",
       "      <td>Action|Thriller</td>\n",
       "    </tr>\n",
       "    <tr>\n",
       "      <th>85961</th>\n",
       "      <td>558</td>\n",
       "      <td>4306</td>\n",
       "      <td>5.0</td>\n",
       "      <td>1035416189</td>\n",
       "      <td>Shrek (2001)</td>\n",
       "      <td>Adventure|Animation|Children|Comedy|Fantasy|Ro...</td>\n",
       "    </tr>\n",
       "    <tr>\n",
       "      <th>85950</th>\n",
       "      <td>558</td>\n",
       "      <td>3186</td>\n",
       "      <td>5.0</td>\n",
       "      <td>1035416294</td>\n",
       "      <td>Girl, Interrupted (1999)</td>\n",
       "      <td>Drama</td>\n",
       "    </tr>\n",
       "    <tr>\n",
       "      <th>85962</th>\n",
       "      <td>558</td>\n",
       "      <td>4308</td>\n",
       "      <td>5.0</td>\n",
       "      <td>1035416273</td>\n",
       "      <td>Moulin Rouge (2001)</td>\n",
       "      <td>Drama|Musical|Romance</td>\n",
       "    </tr>\n",
       "    <tr>\n",
       "      <th>85947</th>\n",
       "      <td>558</td>\n",
       "      <td>2568</td>\n",
       "      <td>5.0</td>\n",
       "      <td>1035416048</td>\n",
       "      <td>Mod Squad, The (1999)</td>\n",
       "      <td>Action|Crime</td>\n",
       "    </tr>\n",
       "    <tr>\n",
       "      <th>85946</th>\n",
       "      <td>558</td>\n",
       "      <td>2297</td>\n",
       "      <td>5.0</td>\n",
       "      <td>1035416242</td>\n",
       "      <td>What Dreams May Come (1998)</td>\n",
       "      <td>Adventure|Drama|Fantasy|Romance</td>\n",
       "    </tr>\n",
       "    <tr>\n",
       "      <th>85965</th>\n",
       "      <td>558</td>\n",
       "      <td>4993</td>\n",
       "      <td>5.0</td>\n",
       "      <td>1035415811</td>\n",
       "      <td>Lord of the Rings: The Fellowship of the Ring,...</td>\n",
       "      <td>Adventure|Fantasy</td>\n",
       "    </tr>\n",
       "  </tbody>\n",
       "</table>\n",
       "</div>"
      ],
      "text/plain": [
       "       userId  movieId  rating   timestamp  \\\n",
       "85983     558     5420     5.0  1035415871   \n",
       "85966     558     5064     5.0  1035415811   \n",
       "85957     558     3831     5.0  1035415531   \n",
       "85959     558     4159     5.0  1035416048   \n",
       "85961     558     4306     5.0  1035416189   \n",
       "85950     558     3186     5.0  1035416294   \n",
       "85962     558     4308     5.0  1035416273   \n",
       "85947     558     2568     5.0  1035416048   \n",
       "85946     558     2297     5.0  1035416242   \n",
       "85965     558     4993     5.0  1035415811   \n",
       "\n",
       "                                                   title  \\\n",
       "85983                                 Windtalkers (2002)   \n",
       "85966                   The Count of Monte Cristo (2002)   \n",
       "85957                                Saving Grace (2000)   \n",
       "85959                     3000 Miles to Graceland (2001)   \n",
       "85961                                       Shrek (2001)   \n",
       "85950                           Girl, Interrupted (1999)   \n",
       "85962                                Moulin Rouge (2001)   \n",
       "85947                              Mod Squad, The (1999)   \n",
       "85946                        What Dreams May Come (1998)   \n",
       "85965  Lord of the Rings: The Fellowship of the Ring,...   \n",
       "\n",
       "                                                  genres  \n",
       "85983                                   Action|Drama|War  \n",
       "85966                    Action|Adventure|Drama|Thriller  \n",
       "85957                                             Comedy  \n",
       "85959                                    Action|Thriller  \n",
       "85961  Adventure|Animation|Children|Comedy|Fantasy|Ro...  \n",
       "85950                                              Drama  \n",
       "85962                              Drama|Musical|Romance  \n",
       "85947                                       Action|Crime  \n",
       "85946                    Adventure|Drama|Fantasy|Romance  \n",
       "85965                                  Adventure|Fantasy  "
      ]
     },
     "execution_count": 24,
     "metadata": {},
     "output_type": "execute_result"
    }
   ],
   "source": [
    "# Let's look at the movies of user 1\n",
    "user_sim = train_df.to_raw_uid(1)\n",
    "data[data[\"userId\"]==user_sim].sort_values(\"rating\", ascending=False).head(10)"
   ]
  },
  {
   "cell_type": "code",
   "execution_count": 25,
   "metadata": {
    "scrolled": true
   },
   "outputs": [
    {
     "data": {
      "text/html": [
       "<div>\n",
       "<style scoped>\n",
       "    .dataframe tbody tr th:only-of-type {\n",
       "        vertical-align: middle;\n",
       "    }\n",
       "\n",
       "    .dataframe tbody tr th {\n",
       "        vertical-align: top;\n",
       "    }\n",
       "\n",
       "    .dataframe thead th {\n",
       "        text-align: right;\n",
       "    }\n",
       "</style>\n",
       "<table border=\"1\" class=\"dataframe\">\n",
       "  <thead>\n",
       "    <tr style=\"text-align: right;\">\n",
       "      <th></th>\n",
       "      <th>userId</th>\n",
       "      <th>movieId</th>\n",
       "      <th>rating</th>\n",
       "      <th>timestamp</th>\n",
       "      <th>title</th>\n",
       "      <th>genres</th>\n",
       "    </tr>\n",
       "  </thead>\n",
       "  <tbody>\n",
       "    <tr>\n",
       "      <th>78340</th>\n",
       "      <td>487</td>\n",
       "      <td>27611</td>\n",
       "      <td>5.0</td>\n",
       "      <td>1428574594</td>\n",
       "      <td>Battlestar Galactica (2003)</td>\n",
       "      <td>Drama|Sci-Fi|War</td>\n",
       "    </tr>\n",
       "    <tr>\n",
       "      <th>78359</th>\n",
       "      <td>487</td>\n",
       "      <td>116797</td>\n",
       "      <td>4.5</td>\n",
       "      <td>1428650174</td>\n",
       "      <td>The Imitation Game (2014)</td>\n",
       "      <td>Drama|Thriller|War</td>\n",
       "    </tr>\n",
       "    <tr>\n",
       "      <th>78321</th>\n",
       "      <td>487</td>\n",
       "      <td>4878</td>\n",
       "      <td>4.0</td>\n",
       "      <td>1428574246</td>\n",
       "      <td>Donnie Darko (2001)</td>\n",
       "      <td>Drama|Mystery|Sci-Fi|Thriller</td>\n",
       "    </tr>\n",
       "    <tr>\n",
       "      <th>78357</th>\n",
       "      <td>487</td>\n",
       "      <td>109487</td>\n",
       "      <td>4.0</td>\n",
       "      <td>1428574546</td>\n",
       "      <td>Interstellar (2014)</td>\n",
       "      <td>Sci-Fi|IMAX</td>\n",
       "    </tr>\n",
       "    <tr>\n",
       "      <th>78349</th>\n",
       "      <td>487</td>\n",
       "      <td>81845</td>\n",
       "      <td>4.0</td>\n",
       "      <td>1428574557</td>\n",
       "      <td>King's Speech, The (2010)</td>\n",
       "      <td>Drama</td>\n",
       "    </tr>\n",
       "    <tr>\n",
       "      <th>78347</th>\n",
       "      <td>487</td>\n",
       "      <td>61240</td>\n",
       "      <td>4.0</td>\n",
       "      <td>1428574619</td>\n",
       "      <td>Let the Right One In (Låt den rätte komma in) ...</td>\n",
       "      <td>Drama|Fantasy|Horror|Romance</td>\n",
       "    </tr>\n",
       "    <tr>\n",
       "      <th>78345</th>\n",
       "      <td>487</td>\n",
       "      <td>56367</td>\n",
       "      <td>4.0</td>\n",
       "      <td>1428650046</td>\n",
       "      <td>Juno (2007)</td>\n",
       "      <td>Comedy|Drama|Romance</td>\n",
       "    </tr>\n",
       "    <tr>\n",
       "      <th>78339</th>\n",
       "      <td>487</td>\n",
       "      <td>8961</td>\n",
       "      <td>4.0</td>\n",
       "      <td>1428574243</td>\n",
       "      <td>Incredibles, The (2004)</td>\n",
       "      <td>Action|Adventure|Animation|Children|Comedy</td>\n",
       "    </tr>\n",
       "    <tr>\n",
       "      <th>78338</th>\n",
       "      <td>487</td>\n",
       "      <td>8874</td>\n",
       "      <td>4.0</td>\n",
       "      <td>1428574269</td>\n",
       "      <td>Shaun of the Dead (2004)</td>\n",
       "      <td>Comedy|Horror</td>\n",
       "    </tr>\n",
       "    <tr>\n",
       "      <th>78337</th>\n",
       "      <td>487</td>\n",
       "      <td>7438</td>\n",
       "      <td>4.0</td>\n",
       "      <td>1428574247</td>\n",
       "      <td>Kill Bill: Vol. 2 (2004)</td>\n",
       "      <td>Action|Drama|Thriller</td>\n",
       "    </tr>\n",
       "  </tbody>\n",
       "</table>\n",
       "</div>"
      ],
      "text/plain": [
       "       userId  movieId  rating   timestamp  \\\n",
       "78340     487    27611     5.0  1428574594   \n",
       "78359     487   116797     4.5  1428650174   \n",
       "78321     487     4878     4.0  1428574246   \n",
       "78357     487   109487     4.0  1428574546   \n",
       "78349     487    81845     4.0  1428574557   \n",
       "78347     487    61240     4.0  1428574619   \n",
       "78345     487    56367     4.0  1428650046   \n",
       "78339     487     8961     4.0  1428574243   \n",
       "78338     487     8874     4.0  1428574269   \n",
       "78337     487     7438     4.0  1428574247   \n",
       "\n",
       "                                                   title  \\\n",
       "78340                        Battlestar Galactica (2003)   \n",
       "78359                          The Imitation Game (2014)   \n",
       "78321                                Donnie Darko (2001)   \n",
       "78357                                Interstellar (2014)   \n",
       "78349                          King's Speech, The (2010)   \n",
       "78347  Let the Right One In (Låt den rätte komma in) ...   \n",
       "78345                                        Juno (2007)   \n",
       "78339                            Incredibles, The (2004)   \n",
       "78338                           Shaun of the Dead (2004)   \n",
       "78337                           Kill Bill: Vol. 2 (2004)   \n",
       "\n",
       "                                           genres  \n",
       "78340                            Drama|Sci-Fi|War  \n",
       "78359                          Drama|Thriller|War  \n",
       "78321               Drama|Mystery|Sci-Fi|Thriller  \n",
       "78357                                 Sci-Fi|IMAX  \n",
       "78349                                       Drama  \n",
       "78347                Drama|Fantasy|Horror|Romance  \n",
       "78345                        Comedy|Drama|Romance  \n",
       "78339  Action|Adventure|Animation|Children|Comedy  \n",
       "78338                               Comedy|Horror  \n",
       "78337                       Action|Drama|Thriller  "
      ]
     },
     "execution_count": 25,
     "metadata": {},
     "output_type": "execute_result"
    }
   ],
   "source": [
    "# and user 439\n",
    "sim_movie = train_df.to_raw_uid(439)\n",
    "data[data[\"userId\"]==sim_movie].sort_values(\"rating\", ascending=False).head(10)"
   ]
  },
  {
   "cell_type": "markdown",
   "metadata": {},
   "source": [
    "**We can also check out which movies are similar looking at the latent vector spaces**"
   ]
  },
  {
   "cell_type": "code",
   "execution_count": 26,
   "metadata": {},
   "outputs": [],
   "source": [
    "latent_movie = pd.DataFrame(recommender_SVD.qi, columns=['latent_1', 'latent_2', 'latent_3','latent_4','latent_5']) # for user latent factors use recommender_SVD.pu\n",
    "latent_movie = latent_movie.reset_index()"
   ]
  },
  {
   "cell_type": "code",
   "execution_count": 27,
   "metadata": {},
   "outputs": [
    {
     "data": {
      "text/html": [
       "<div>\n",
       "<style scoped>\n",
       "    .dataframe tbody tr th:only-of-type {\n",
       "        vertical-align: middle;\n",
       "    }\n",
       "\n",
       "    .dataframe tbody tr th {\n",
       "        vertical-align: top;\n",
       "    }\n",
       "\n",
       "    .dataframe thead th {\n",
       "        text-align: right;\n",
       "    }\n",
       "</style>\n",
       "<table border=\"1\" class=\"dataframe\">\n",
       "  <thead>\n",
       "    <tr style=\"text-align: right;\">\n",
       "      <th></th>\n",
       "      <th>index</th>\n",
       "      <th>latent_1</th>\n",
       "      <th>latent_2</th>\n",
       "      <th>latent_3</th>\n",
       "      <th>latent_4</th>\n",
       "      <th>latent_5</th>\n",
       "      <th>movieId</th>\n",
       "      <th>title</th>\n",
       "      <th>genres</th>\n",
       "    </tr>\n",
       "  </thead>\n",
       "  <tbody>\n",
       "    <tr>\n",
       "      <th>0</th>\n",
       "      <td>0</td>\n",
       "      <td>-0.167465</td>\n",
       "      <td>0.157536</td>\n",
       "      <td>0.028691</td>\n",
       "      <td>0.216822</td>\n",
       "      <td>0.082824</td>\n",
       "      <td>4010</td>\n",
       "      <td>Brewster's Millions (1985)</td>\n",
       "      <td>Comedy</td>\n",
       "    </tr>\n",
       "    <tr>\n",
       "      <th>1</th>\n",
       "      <td>1</td>\n",
       "      <td>0.122751</td>\n",
       "      <td>0.261841</td>\n",
       "      <td>0.156831</td>\n",
       "      <td>0.425036</td>\n",
       "      <td>0.486494</td>\n",
       "      <td>3285</td>\n",
       "      <td>Beach, The (2000)</td>\n",
       "      <td>Adventure|Drama</td>\n",
       "    </tr>\n",
       "    <tr>\n",
       "      <th>2</th>\n",
       "      <td>2</td>\n",
       "      <td>-0.154201</td>\n",
       "      <td>0.566327</td>\n",
       "      <td>0.588173</td>\n",
       "      <td>0.144102</td>\n",
       "      <td>0.575950</td>\n",
       "      <td>1272</td>\n",
       "      <td>Patton (1970)</td>\n",
       "      <td>Drama|War</td>\n",
       "    </tr>\n",
       "    <tr>\n",
       "      <th>3</th>\n",
       "      <td>3</td>\n",
       "      <td>-0.151999</td>\n",
       "      <td>-0.469216</td>\n",
       "      <td>0.209874</td>\n",
       "      <td>0.113968</td>\n",
       "      <td>-0.272495</td>\n",
       "      <td>3253</td>\n",
       "      <td>Wayne's World (1992)</td>\n",
       "      <td>Comedy</td>\n",
       "    </tr>\n",
       "    <tr>\n",
       "      <th>4</th>\n",
       "      <td>4</td>\n",
       "      <td>-0.355826</td>\n",
       "      <td>-0.039573</td>\n",
       "      <td>0.288253</td>\n",
       "      <td>0.473936</td>\n",
       "      <td>-0.011371</td>\n",
       "      <td>1084</td>\n",
       "      <td>Bonnie and Clyde (1967)</td>\n",
       "      <td>Crime|Drama</td>\n",
       "    </tr>\n",
       "  </tbody>\n",
       "</table>\n",
       "</div>"
      ],
      "text/plain": [
       "   index  latent_1  latent_2  latent_3  latent_4  latent_5  movieId  \\\n",
       "0      0 -0.167465  0.157536  0.028691  0.216822  0.082824     4010   \n",
       "1      1  0.122751  0.261841  0.156831  0.425036  0.486494     3285   \n",
       "2      2 -0.154201  0.566327  0.588173  0.144102  0.575950     1272   \n",
       "3      3 -0.151999 -0.469216  0.209874  0.113968 -0.272495     3253   \n",
       "4      4 -0.355826 -0.039573  0.288253  0.473936 -0.011371     1084   \n",
       "\n",
       "                        title           genres  \n",
       "0  Brewster's Millions (1985)           Comedy  \n",
       "1           Beach, The (2000)  Adventure|Drama  \n",
       "2               Patton (1970)        Drama|War  \n",
       "3        Wayne's World (1992)           Comedy  \n",
       "4     Bonnie and Clyde (1967)      Crime|Drama  "
      ]
     },
     "execution_count": 27,
     "metadata": {},
     "output_type": "execute_result"
    }
   ],
   "source": [
    "# Add the latent factors to the movie information\n",
    "inner_raw_item = pd.DataFrame.from_dict(train_df._raw2inner_id_items, orient='index')\n",
    "inner_raw_item.column = inner_raw_item.rename(columns={0: \"index\"}, inplace=True)\n",
    "inner_raw_item = inner_raw_item.reset_index()\n",
    "inner_raw_item = pd.merge(latent_movie, inner_raw_item,how=\"left\", on=\"index\")\n",
    "inner_raw_item = inner_raw_item.rename(columns={\"level_0\": \"movieId\"})\n",
    "inner_raw_item = pd.merge(inner_raw_item,movies,how=\"left\", on=\"movieId\")\n",
    "inner_raw_item.head(5)"
   ]
  },
  {
   "cell_type": "code",
   "execution_count": 28,
   "metadata": {},
   "outputs": [
    {
     "data": {
      "image/png": "[encoded data removed]",
      "text/plain": [
       "<Figure size 432x288 with 1 Axes>"
      ]
     },
     "metadata": {},
     "output_type": "display_data"
    }
   ],
   "source": [
    "sns.scatterplot(\n",
    "    x=\"latent_1\", y=\"latent_2\",\n",
    "    #hue=\"label\",\n",
    "    #palette=sns.color_palette(\"hls\", latent_movie[\"rating\"].nunique()),\n",
    "    data=inner_raw_item,\n",
    "    legend=\"full\",\n",
    "    alpha=0.3,\n",
    ")\n",
    "\n",
    "# Test if the lord of the ring movies are close together\n",
    "test_viz = inner_raw_item[inner_raw_item[\"title\"].str.contains(\"Lord of the R\")].reset_index()\n",
    "\n",
    "for i, titl in enumerate (test_viz['title']):\n",
    "    plt.text(test_viz['latent_1'][i]+0.2, test_viz['latent_2'][i]+0.2, titl)\n"
   ]
  },
  {
   "cell_type": "markdown",
   "metadata": {},
   "source": [
    "** Optional: do the same for the users and check which users are close together **"
   ]
  },
  {
   "cell_type": "markdown",
   "metadata": {},
   "source": [
    "#### That was the hands on, good job! Do you have time left? There is plenty to explore learn with this dataset on your own. Some ideas:\n",
    "\n",
    "5.1 Optional: create an ensemble of the two different models (or any other) and see how that one performs on the test set. Does it improve performance (in RMSE or confusion matrix statistics)?\n",
    "\n",
    "5.2 Optional: Try out the EASE model: https://github.com/Darel13712/ease_rec  \n",
    "\n",
    "5.3 Optional: Add yourself as a user, add some ratings of movies that you have seen, and recommend movies for yourself"
   ]
  },
  {
   "cell_type": "code",
   "execution_count": null,
   "metadata": {},
   "outputs": [],
   "source": []
  }
 ],
 "metadata": {
  "kernelspec": {
   "display_name": "Python 3",
   "language": "python",
   "name": "python3"
  },
  "language_info": {
   "codemirror_mode": {
    "name": "ipython",
    "version": 3
   },
   "file_extension": ".py",
   "mimetype": "text/x-python",
   "name": "python",
   "nbconvert_exporter": "python",
   "pygments_lexer": "ipython3",
   "version": "3.7.2"
  }
 },
 "nbformat": 4,
 "nbformat_minor": 4
}
